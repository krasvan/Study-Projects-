{
  "nbformat": 4,
  "nbformat_minor": 0,
  "metadata": {
    "colab": {
      "provenance": []
    },
    "kernelspec": {
      "name": "python3",
      "display_name": "Python 3"
    },
    "language_info": {
      "name": "python"
    }
  },
  "cells": [
    {
      "cell_type": "markdown",
      "source": [
        "**0. Data preparation**"
      ],
      "metadata": {
        "id": "CsBr_QKu0uoL"
      }
    },
    {
      "cell_type": "code",
      "execution_count": null,
      "metadata": {
        "colab": {
          "base_uri": "https://localhost:8080/"
        },
        "id": "WRaKzkiP0TBL",
        "outputId": "af060eee-5202-4c07-beec-b25005e1d106"
      },
      "outputs": [
        {
          "output_type": "stream",
          "name": "stdout",
          "text": [
            "Looking in indexes: https://pypi.org/simple, https://us-python.pkg.dev/colab-wheels/public/simple/\n",
            "Requirement already satisfied: pyblp in /usr/local/lib/python3.8/dist-packages (0.13.0)\n",
            "Requirement already satisfied: sympy>=1.1.0 in /usr/local/lib/python3.8/dist-packages (from pyblp) (1.7.1)\n",
            "Requirement already satisfied: scipy>=1.2.0 in /usr/local/lib/python3.8/dist-packages (from pyblp) (1.7.3)\n",
            "Requirement already satisfied: numpy>=1.17.0 in /usr/local/lib/python3.8/dist-packages (from pyblp) (1.21.6)\n",
            "Requirement already satisfied: pyhdfe>=0.1.0 in /usr/local/lib/python3.8/dist-packages (from pyblp) (0.1.2)\n",
            "Requirement already satisfied: patsy>=0.5.1 in /usr/local/lib/python3.8/dist-packages (from pyblp) (0.5.3)\n",
            "Requirement already satisfied: six in /usr/local/lib/python3.8/dist-packages (from patsy>=0.5.1->pyblp) (1.15.0)\n",
            "Requirement already satisfied: mpmath>=0.19 in /usr/local/lib/python3.8/dist-packages (from sympy>=1.1.0->pyblp) (1.2.1)\n"
          ]
        }
      ],
      "source": [
        "pip install pyblp"
      ]
    },
    {
      "cell_type": "code",
      "source": [
        "import pyblp\n",
        "import numpy as np\n",
        "import pandas as pd\n",
        "import matplotlib.pyplot as plt\n",
        "import math\n",
        "\n",
        "pyblp.options.digits = 2\n",
        "pyblp.options.verbose = False"
      ],
      "metadata": {
        "id": "YBZBrD0V0r3Y"
      },
      "execution_count": null,
      "outputs": []
    },
    {
      "cell_type": "code",
      "source": [
        "data=pd.read_excel('/content/data_HA.xlsx')\n",
        "data.head()"
      ],
      "metadata": {
        "colab": {
          "base_uri": "https://localhost:8080/",
          "height": 241
        },
        "id": "v91KuRzo1pqa",
        "outputId": "db9075e6-80d6-4dfb-feaa-392119c7c8b9"
      },
      "execution_count": 58,
      "outputs": [
        {
          "output_type": "stream",
          "name": "stderr",
          "text": [
            "/usr/local/lib/python3.8/dist-packages/openpyxl/worksheet/_reader.py:312: UserWarning: Unknown extension is not supported and will be removed\n",
            "  warn(msg)\n"
          ]
        },
        {
          "output_type": "execute_result",
          "data": {
            "text/plain": [
              "     prices    shares  market_ids  firm_ids   quality  satellite  wired  \\\n",
              "0  2.636681  0.469490           0         0  0.921656          1      0   \n",
              "1  2.812415  0.237731           0         1  1.834763          1      0   \n",
              "2  2.417776  0.038745           0         2  0.762334          0      1   \n",
              "3  2.321038  0.163560           0         3  1.399432          0      1   \n",
              "4  2.534516  0.114659           1         0  0.082587          1      0   \n",
              "\n",
              "   demand_instruments0  \n",
              "0             0.072425  \n",
              "1             0.548527  \n",
              "2             0.868230  \n",
              "3             0.135893  \n",
              "4             0.235976  "
            ],
            "text/html": [
              "\n",
              "  <div id=\"df-bca39126-727d-4d37-ae43-0f4cf432a077\">\n",
              "    <div class=\"colab-df-container\">\n",
              "      <div>\n",
              "<style scoped>\n",
              "    .dataframe tbody tr th:only-of-type {\n",
              "        vertical-align: middle;\n",
              "    }\n",
              "\n",
              "    .dataframe tbody tr th {\n",
              "        vertical-align: top;\n",
              "    }\n",
              "\n",
              "    .dataframe thead th {\n",
              "        text-align: right;\n",
              "    }\n",
              "</style>\n",
              "<table border=\"1\" class=\"dataframe\">\n",
              "  <thead>\n",
              "    <tr style=\"text-align: right;\">\n",
              "      <th></th>\n",
              "      <th>prices</th>\n",
              "      <th>shares</th>\n",
              "      <th>market_ids</th>\n",
              "      <th>firm_ids</th>\n",
              "      <th>quality</th>\n",
              "      <th>satellite</th>\n",
              "      <th>wired</th>\n",
              "      <th>demand_instruments0</th>\n",
              "    </tr>\n",
              "  </thead>\n",
              "  <tbody>\n",
              "    <tr>\n",
              "      <th>0</th>\n",
              "      <td>2.636681</td>\n",
              "      <td>0.469490</td>\n",
              "      <td>0</td>\n",
              "      <td>0</td>\n",
              "      <td>0.921656</td>\n",
              "      <td>1</td>\n",
              "      <td>0</td>\n",
              "      <td>0.072425</td>\n",
              "    </tr>\n",
              "    <tr>\n",
              "      <th>1</th>\n",
              "      <td>2.812415</td>\n",
              "      <td>0.237731</td>\n",
              "      <td>0</td>\n",
              "      <td>1</td>\n",
              "      <td>1.834763</td>\n",
              "      <td>1</td>\n",
              "      <td>0</td>\n",
              "      <td>0.548527</td>\n",
              "    </tr>\n",
              "    <tr>\n",
              "      <th>2</th>\n",
              "      <td>2.417776</td>\n",
              "      <td>0.038745</td>\n",
              "      <td>0</td>\n",
              "      <td>2</td>\n",
              "      <td>0.762334</td>\n",
              "      <td>0</td>\n",
              "      <td>1</td>\n",
              "      <td>0.868230</td>\n",
              "    </tr>\n",
              "    <tr>\n",
              "      <th>3</th>\n",
              "      <td>2.321038</td>\n",
              "      <td>0.163560</td>\n",
              "      <td>0</td>\n",
              "      <td>3</td>\n",
              "      <td>1.399432</td>\n",
              "      <td>0</td>\n",
              "      <td>1</td>\n",
              "      <td>0.135893</td>\n",
              "    </tr>\n",
              "    <tr>\n",
              "      <th>4</th>\n",
              "      <td>2.534516</td>\n",
              "      <td>0.114659</td>\n",
              "      <td>1</td>\n",
              "      <td>0</td>\n",
              "      <td>0.082587</td>\n",
              "      <td>1</td>\n",
              "      <td>0</td>\n",
              "      <td>0.235976</td>\n",
              "    </tr>\n",
              "  </tbody>\n",
              "</table>\n",
              "</div>\n",
              "      <button class=\"colab-df-convert\" onclick=\"convertToInteractive('df-bca39126-727d-4d37-ae43-0f4cf432a077')\"\n",
              "              title=\"Convert this dataframe to an interactive table.\"\n",
              "              style=\"display:none;\">\n",
              "        \n",
              "  <svg xmlns=\"http://www.w3.org/2000/svg\" height=\"24px\"viewBox=\"0 0 24 24\"\n",
              "       width=\"24px\">\n",
              "    <path d=\"M0 0h24v24H0V0z\" fill=\"none\"/>\n",
              "    <path d=\"M18.56 5.44l.94 2.06.94-2.06 2.06-.94-2.06-.94-.94-2.06-.94 2.06-2.06.94zm-11 1L8.5 8.5l.94-2.06 2.06-.94-2.06-.94L8.5 2.5l-.94 2.06-2.06.94zm10 10l.94 2.06.94-2.06 2.06-.94-2.06-.94-.94-2.06-.94 2.06-2.06.94z\"/><path d=\"M17.41 7.96l-1.37-1.37c-.4-.4-.92-.59-1.43-.59-.52 0-1.04.2-1.43.59L10.3 9.45l-7.72 7.72c-.78.78-.78 2.05 0 2.83L4 21.41c.39.39.9.59 1.41.59.51 0 1.02-.2 1.41-.59l7.78-7.78 2.81-2.81c.8-.78.8-2.07 0-2.86zM5.41 20L4 18.59l7.72-7.72 1.47 1.35L5.41 20z\"/>\n",
              "  </svg>\n",
              "      </button>\n",
              "      \n",
              "  <style>\n",
              "    .colab-df-container {\n",
              "      display:flex;\n",
              "      flex-wrap:wrap;\n",
              "      gap: 12px;\n",
              "    }\n",
              "\n",
              "    .colab-df-convert {\n",
              "      background-color: #E8F0FE;\n",
              "      border: none;\n",
              "      border-radius: 50%;\n",
              "      cursor: pointer;\n",
              "      display: none;\n",
              "      fill: #1967D2;\n",
              "      height: 32px;\n",
              "      padding: 0 0 0 0;\n",
              "      width: 32px;\n",
              "    }\n",
              "\n",
              "    .colab-df-convert:hover {\n",
              "      background-color: #E2EBFA;\n",
              "      box-shadow: 0px 1px 2px rgba(60, 64, 67, 0.3), 0px 1px 3px 1px rgba(60, 64, 67, 0.15);\n",
              "      fill: #174EA6;\n",
              "    }\n",
              "\n",
              "    [theme=dark] .colab-df-convert {\n",
              "      background-color: #3B4455;\n",
              "      fill: #D2E3FC;\n",
              "    }\n",
              "\n",
              "    [theme=dark] .colab-df-convert:hover {\n",
              "      background-color: #434B5C;\n",
              "      box-shadow: 0px 1px 3px 1px rgba(0, 0, 0, 0.15);\n",
              "      filter: drop-shadow(0px 1px 2px rgba(0, 0, 0, 0.3));\n",
              "      fill: #FFFFFF;\n",
              "    }\n",
              "  </style>\n",
              "\n",
              "      <script>\n",
              "        const buttonEl =\n",
              "          document.querySelector('#df-bca39126-727d-4d37-ae43-0f4cf432a077 button.colab-df-convert');\n",
              "        buttonEl.style.display =\n",
              "          google.colab.kernel.accessAllowed ? 'block' : 'none';\n",
              "\n",
              "        async function convertToInteractive(key) {\n",
              "          const element = document.querySelector('#df-bca39126-727d-4d37-ae43-0f4cf432a077');\n",
              "          const dataTable =\n",
              "            await google.colab.kernel.invokeFunction('convertToInteractive',\n",
              "                                                     [key], {});\n",
              "          if (!dataTable) return;\n",
              "\n",
              "          const docLinkHtml = 'Like what you see? Visit the ' +\n",
              "            '<a target=\"_blank\" href=https://colab.research.google.com/notebooks/data_table.ipynb>data table notebook</a>'\n",
              "            + ' to learn more about interactive tables.';\n",
              "          element.innerHTML = '';\n",
              "          dataTable['output_type'] = 'display_data';\n",
              "          await google.colab.output.renderOutput(dataTable, element);\n",
              "          const docLink = document.createElement('div');\n",
              "          docLink.innerHTML = docLinkHtml;\n",
              "          element.appendChild(docLink);\n",
              "        }\n",
              "      </script>\n",
              "    </div>\n",
              "  </div>\n",
              "  "
            ]
          },
          "metadata": {},
          "execution_count": 58
        }
      ]
    },
    {
      "cell_type": "markdown",
      "source": [
        "**3.1 Data Comprehension**"
      ],
      "metadata": {
        "id": "aMy60WAo7CGM"
      }
    },
    {
      "cell_type": "markdown",
      "source": [
        "a. Compute the share of consumers not buying any of the 4 goods in market 1.\n"
      ],
      "metadata": {
        "id": "FDmZp_CJ_yAC"
      }
    },
    {
      "cell_type": "code",
      "source": [
        "indicator=data['market_ids']==0\n",
        "market0=data[indicator]\n",
        "inside=market0['shares'].sum()\n",
        "outside=1 - inside\n",
        "round(outside,4)"
      ],
      "metadata": {
        "colab": {
          "base_uri": "https://localhost:8080/"
        },
        "id": "H3yd4GR57w7J",
        "outputId": "de5f0126-6b7c-4891-821c-ee558e8f8c68"
      },
      "execution_count": 22,
      "outputs": [
        {
          "output_type": "execute_result",
          "data": {
            "text/plain": [
              "0.0905"
            ]
          },
          "metadata": {},
          "execution_count": 22
        }
      ]
    },
    {
      "cell_type": "markdown",
      "source": [
        "b.  For market 1, compute the market share of good 1 within the group of all satellite services goods."
      ],
      "metadata": {
        "id": "-s85YlJK_tfO"
      }
    },
    {
      "cell_type": "code",
      "source": [
        "indicator2=data['firm_ids']==0\n",
        "good1=data[indicator & indicator2]\n",
        "s_good1=good1[\"shares\"].sum()\n",
        "indicator3=data['satellite']==1\n",
        "s_s=s_good1/data[indicator & indicator3]['shares'].sum()\n",
        "round(s_s, 4)"
      ],
      "metadata": {
        "colab": {
          "base_uri": "https://localhost:8080/"
        },
        "id": "X7xxPXEj_-4a",
        "outputId": "87ccda26-3269-4854-e150-b0c76673b983"
      },
      "execution_count": 23,
      "outputs": [
        {
          "output_type": "execute_result",
          "data": {
            "text/plain": [
              "0.6639"
            ]
          },
          "metadata": {},
          "execution_count": 23
        }
      ]
    },
    {
      "cell_type": "markdown",
      "source": [
        "c. For market 1, compute the average price of satellite services and the average price of wired services."
      ],
      "metadata": {
        "id": "n_h91hiM_1mU"
      }
    },
    {
      "cell_type": "code",
      "source": [
        "av_price_s=data[indicator & indicator3]['prices'].mean()\n",
        "av_price_w=data[indicator & -indicator3]['prices'].mean()\n",
        "# average price of satellite services = 2.7245\n",
        "# average price of wired services = 2.3694"
      ],
      "metadata": {
        "id": "OlplcHlaC4Er"
      },
      "execution_count": 18,
      "outputs": []
    },
    {
      "cell_type": "markdown",
      "source": [
        "**3.2 Plain Logit and OLS**"
      ],
      "metadata": {
        "id": "myi4ZraG_430"
      }
    },
    {
      "cell_type": "markdown",
      "source": [
        "a. Estimate the plain logit model using the instrumental variable for price provided in the dataset. (Report all beta and alpha estimates.) Which service provides on average more utility at the baseline (zero) level of quality — satellite or wired? (Just compare point estimates.)"
      ],
      "metadata": {
        "id": "7MlN8CQfFNIf"
      }
    },
    {
      "cell_type": "code",
      "source": [
        "logit_formulation=pyblp.Formulation('0 + quality + satellite + wired + prices')\n",
        "\n",
        "problem=pyblp.Problem(logit_formulation, data)\n",
        "problem"
      ],
      "metadata": {
        "colab": {
          "base_uri": "https://localhost:8080/"
        },
        "id": "amo0udBbFOyf",
        "outputId": "4621f3d7-26a3-48e3-dc21-8a70e72f6579"
      },
      "execution_count": 19,
      "outputs": [
        {
          "output_type": "execute_result",
          "data": {
            "text/plain": [
              "Dimensions:\n",
              "===========================\n",
              " T     N     F    K1    MD \n",
              "----  ----  ---  ----  ----\n",
              "1000  4000   4    4     4  \n",
              "===========================\n",
              "\n",
              "Formulations:\n",
              "=============================================================\n",
              "     Column Indices:           0         1        2      3   \n",
              "--------------------------  -------  ---------  -----  ------\n",
              "X1: Linear Characteristics  quality  satellite  wired  prices\n",
              "============================================================="
            ]
          },
          "metadata": {},
          "execution_count": 19
        }
      ]
    },
    {
      "cell_type": "code",
      "source": [
        "logit_results=problem.solve()\n",
        "logit_results"
      ],
      "metadata": {
        "colab": {
          "base_uri": "https://localhost:8080/"
        },
        "id": "0Oe-PeAhGjce",
        "outputId": "7d1c6587-f867-4814-9031-e0c3b1592b10"
      },
      "execution_count": 25,
      "outputs": [
        {
          "output_type": "execute_result",
          "data": {
            "text/plain": [
              "Problem Results Summary:\n",
              "=============================================================\n",
              "GMM   Objective  Clipped  Weighting Matrix  Covariance Matrix\n",
              "Step    Value    Shares   Condition Number  Condition Number \n",
              "----  ---------  -------  ----------------  -----------------\n",
              " 2    +2.8E-25      0         +2.3E+01          +1.7E+03     \n",
              "=============================================================\n",
              "\n",
              "Cumulative Statistics:\n",
              "========================\n",
              "Computation   Objective \n",
              "   Time      Evaluations\n",
              "-----------  -----------\n",
              " 00:00:00         2     \n",
              "========================\n",
              "\n",
              "Beta Estimates (Robust SEs in Parentheses):\n",
              "==============================================\n",
              " quality    satellite     wired       prices  \n",
              "----------  ----------  ----------  ----------\n",
              " +9.4E-01    +4.1E+00    +3.0E+00    -2.0E+00 \n",
              "(+2.5E-02)  (+1.5E-01)  (+1.5E-01)  (+5.6E-02)\n",
              "=============================================="
            ]
          },
          "metadata": {},
          "execution_count": 25
        }
      ]
    },
    {
      "cell_type": "markdown",
      "source": [
        "beta and alpha estimates (while all estimates are significant):\n",
        "\n",
        "$\\beta_{quality} = 0.94 \\\\\n",
        "\\beta_{satellite} = 4.1 \\\\\n",
        "\\beta_{wired} = 3.0 \\\\\n",
        "\\alpha = -2.0$\n",
        "\n",
        "Satellite provides on average more utility at the baseline level of quality *(4.1 > 3.0)*."
      ],
      "metadata": {
        "id": "Qb-PozjFG-8w"
      }
    },
    {
      "cell_type": "markdown",
      "source": [
        "b. Estimate the same model by OLS (recall that for this, one has to make the price its own instrument). Explain qualitatively why the bias in OLS has the sign it has."
      ],
      "metadata": {
        "id": "w8VvO_UlH9bG"
      }
    },
    {
      "cell_type": "code",
      "source": [
        "#naively trying OLS without instruments, making price its own instrument\n",
        "#deleting current instruments\n",
        "data_OLS=data.drop(data.columns[7:], axis=1)\n",
        "#adding a new instrument which is just price itself\n",
        "data_OLS[\"demand_instruments0\"]=data_OLS[\"prices\"]\n",
        "#creating an OLS estimation problem\n",
        "problem_OLS = pyblp.Problem(logit_formulation, data_OLS)\n",
        "logit_results_OLS = problem_OLS.solve()\n",
        "logit_results_OLS"
      ],
      "metadata": {
        "colab": {
          "base_uri": "https://localhost:8080/"
        },
        "id": "CWrTRcYpJcDr",
        "outputId": "7f6162a1-8860-435e-8f92-16074efa8b7d"
      },
      "execution_count": 26,
      "outputs": [
        {
          "output_type": "execute_result",
          "data": {
            "text/plain": [
              "Problem Results Summary:\n",
              "=============================================================\n",
              "GMM   Objective  Clipped  Weighting Matrix  Covariance Matrix\n",
              "Step    Value    Shares   Condition Number  Condition Number \n",
              "----  ---------  -------  ----------------  -----------------\n",
              " 2    +1.5E-23      0         +6.4E+02          +1.2E+03     \n",
              "=============================================================\n",
              "\n",
              "Cumulative Statistics:\n",
              "========================\n",
              "Computation   Objective \n",
              "   Time      Evaluations\n",
              "-----------  -----------\n",
              " 00:00:00         2     \n",
              "========================\n",
              "\n",
              "Beta Estimates (Robust SEs in Parentheses):\n",
              "==============================================\n",
              " quality    satellite     wired       prices  \n",
              "----------  ----------  ----------  ----------\n",
              " +8.5E-01    +1.7E+00    +7.5E-01    -1.1E+00 \n",
              "(+2.3E-02)  (+1.2E-01)  (+1.1E-01)  (+4.4E-02)\n",
              "=============================================="
            ]
          },
          "metadata": {},
          "execution_count": 26
        }
      ]
    },
    {
      "cell_type": "markdown",
      "source": [
        "The OLS price coefficient -1.1 is, as expected, less negative then the IV price coefficient -2. \n",
        "\n",
        "Hence, the endogeneity of price such that the price and  $\\xi$  (unobservable quality components) are positively correlated."
      ],
      "metadata": {
        "id": "WdxABT3QKBQ0"
      }
    },
    {
      "cell_type": "markdown",
      "source": [
        "c. Compute and visualize the matrix of elasticities for market 1 as we did in class. Report a numerical value of the elasticity of the share of good 2 with respect to price of good 4 in market 1. Describe in words what this elasticity means."
      ],
      "metadata": {
        "id": "Ngl9RvLjL1NH"
      }
    },
    {
      "cell_type": "code",
      "source": [
        "#computing elasticities\n",
        "elasticities = logit_results.compute_elasticities()\n",
        "#computing matrix of elasticities in a single market\n",
        "single_market = data['market_ids'] == 0\n",
        "#elasticities[single_market]\n",
        "plt.colorbar(plt.matshow(elasticities[single_market]))"
      ],
      "metadata": {
        "colab": {
          "base_uri": "https://localhost:8080/",
          "height": 271
        },
        "id": "jFueLV3yME3R",
        "outputId": "6699c96c-46b4-4836-c322-83a28f542ff5"
      },
      "execution_count": 27,
      "outputs": [
        {
          "output_type": "execute_result",
          "data": {
            "text/plain": [
              "<matplotlib.colorbar.Colorbar at 0x7f8ace764f10>"
            ]
          },
          "metadata": {},
          "execution_count": 27
        },
        {
          "output_type": "display_data",
          "data": {
            "text/plain": [
              "<Figure size 288x288 with 2 Axes>"
            ],
            "image/png": "[encoded data removed]"
          },
          "metadata": {
            "needs_background": "light"
          }
        }
      ]
    },
    {
      "cell_type": "code",
      "source": [
        "els_2_4 = elasticities[1][3]\n",
        "els_2_4"
      ],
      "metadata": {
        "colab": {
          "base_uri": "https://localhost:8080/"
        },
        "id": "rqFzpnI0OD7O",
        "outputId": "5baa0057-6988-42e6-ef5b-78dbdafd3504"
      },
      "execution_count": 28,
      "outputs": [
        {
          "output_type": "execute_result",
          "data": {
            "text/plain": [
              "0.7548040802957188"
            ]
          },
          "metadata": {},
          "execution_count": 28
        }
      ]
    },
    {
      "cell_type": "markdown",
      "source": [
        "In the matrix above, element $(i,j)$ is the elasticity of market share of good $i$ with respect to price of good $j$. In order to indicate the numerical value of the elasticity of the share of good 2 at the price of good 4 in market 1, we need to take the element $(2,4)$: $\\varepsilon^{p_4}_{s_2} = 0.755$\n",
        "\n",
        "In Plain Logit, the cross-elasticity of $s_{i}$ with respect to  $p_j$  $(i\\neq j)$ at a particular point does not depend on $i$. An increase in the price of good 4 *equally affects* the increase in demand for all other goods (as can be seen from the column shaded in one color in the elasticity matrix). \n",
        "\n",
        "If the price of good 4 increases by 1%, the market share of good 2 will increase by 0.75% (the same will happen with the shares of other goods 1 and 3)."
      ],
      "metadata": {
        "id": "4fM4b18WNJ6V"
      }
    },
    {
      "cell_type": "markdown",
      "source": [
        "d. Suppose consumer Alice buying from market 1 has the individual shocks $\\varepsilon_{i1} = −1$, $\\varepsilon_{i2} = 0$, $\\varepsilon_{i3} = 1.5$, $\\varepsilon_{i4} = −2$ and $\\varepsilon_{i0} = 0.8$. Which good (out of 4 inside goods and the outside good) does she choose? *Hint: pyblp results.delta command might be of use here.*"
      ],
      "metadata": {
        "id": "9RNHnG_KIKQn"
      }
    },
    {
      "cell_type": "code",
      "source": [
        "delta_1 = logit_results.compute_delta(market_id = 0)\n",
        "epsilion_i1 = -1\n",
        "epsilion_i2 = 0\n",
        "epsilion_i3 = 1.5\n",
        "epsilion_i4 = -2\n",
        "epsilion_i0 = 0.8\n",
        "\n",
        "u_i1 = delta_1[0][0] + epsilion_i1\n",
        "u_i2 = delta_1[1][0] + epsilion_i2\n",
        "u_i3 = delta_1[2][0] + epsilion_i3\n",
        "u_i4 = delta_1[3][0] + epsilion_i4\n",
        "u_i0 = epsilion_i0\n",
        "\n",
        "u_ij = [u_i1, u_i2, u_i3, u_i4, u_i0]\n",
        "u_ij"
      ],
      "metadata": {
        "colab": {
          "base_uri": "https://localhost:8080/"
        },
        "id": "Z1nlN_oVWr-r",
        "outputId": "e12622f4-c000-4228-d88c-b3efecb9d20e"
      },
      "execution_count": 29,
      "outputs": [
        {
          "output_type": "execute_result",
          "data": {
            "text/plain": [
              "[0.6465887141277653,\n",
              " 0.9660798020291292,\n",
              " 0.6519450831808693,\n",
              " -1.4078795193130436,\n",
              " 0.8]"
            ]
          },
          "metadata": {},
          "execution_count": 29
        }
      ]
    },
    {
      "cell_type": "code",
      "source": [
        "max(u_ij)"
      ],
      "metadata": {
        "colab": {
          "base_uri": "https://localhost:8080/"
        },
        "id": "B6HqjRkoZf6g",
        "outputId": "473236af-df67-4d01-f29d-9b9608c1c2be"
      },
      "execution_count": 30,
      "outputs": [
        {
          "output_type": "execute_result",
          "data": {
            "text/plain": [
              "0.9660798020291292"
            ]
          },
          "metadata": {},
          "execution_count": 30
        }
      ]
    },
    {
      "cell_type": "markdown",
      "source": [
        "Conclusion: \n",
        "Alice choose good with maximum utility (0.966) - good 2."
      ],
      "metadata": {
        "id": "JrMHg7QYZtQb"
      }
    },
    {
      "cell_type": "markdown",
      "source": [
        "e. Suppose you work at a satellite provider $SS$ who has not entered market 1 yet but considers doing so. Your boss has tasked you with predicting what will be the market share of SS in the short run if it enters the market. $SS$ wants to set quality $x_{SS}$ equal to the current average quality of satellite services in the market and price $p_{SS}$ equal to the current average price of satellite services in the market. The $\\xi$ shock for this new good is 0. In the short run, prices of existing products cannot change due to menu costs. Using your estimates, do what your boss wants of you.\n",
        "\n"
      ],
      "metadata": {
        "id": "5qmUs6NGIN80"
      }
    },
    {
      "cell_type": "markdown",
      "source": [
        "Calculate the share of a new product using the formula, knowing all $\\delta_{j0}$ on the market.\n",
        "\n",
        "\n",
        "$\\delta_{ss} = quality_{ss} \\cdot \\widehat{\\beta_{quality}} + satellite_{ss} \\cdot \\widehat{\\beta_{satellite}} + wired_{ss} \\cdot \\widehat{\\beta_{wired}} + prices_{ss} \\cdot \\widehat{\\beta_{prices}}$):"
      ],
      "metadata": {
        "id": "vcLm7FnHSdG4"
      }
    },
    {
      "cell_type": "markdown",
      "source": [
        "![4ylmmOsnuUI.jpg](data:image/jpeg;base64,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)"
      ],
      "metadata": {
        "id": "NXaA7fT8OnN9"
      }
    },
    {
      "cell_type": "code",
      "source": [
        "data_1 = data.loc[data['market_ids'] == 0]\n",
        "dats_ss = data_1.groupby('satellite').mean()[['prices', 'quality']]\n",
        "# average price of satellite services = 2.724548\n",
        "# average quality of satellite services = 1.378210\n",
        "\n",
        "delta_ss = dats_ss.iat[1,1]*0.94 + 4.1*1 + 3*0 - 2*dats_ss.iat[1,0]\n",
        "\n",
        "s_ss = math.exp(delta_ss)/(math.exp(delta_ss) + math.exp(delta_1[0][0]) + math.exp(delta_1[1][0]) + math.exp(delta_1[2][0]) + math.exp(delta_1[3][0]) + math.exp(0))\n",
        "s_ss\n",
        "\n",
        "s_out = math.exp(0)/(math.exp(delta_ss) + math.exp(delta_1[0][0]) + math.exp(delta_1[1][0]) + math.exp(delta_1[2][0]) + math.exp(delta_1[3][0]) + math.exp(0))\n",
        "s_1 = math.exp(delta_1[0][0])/(math.exp(delta_ss) + math.exp(delta_1[0][0]) + math.exp(delta_1[1][0]) + math.exp(delta_1[2][0]) + math.exp(delta_1[3][0]) + math.exp(0))\n",
        "s_2 = math.exp(delta_1[1][0])/(math.exp(delta_ss) + math.exp(delta_1[0][0]) + math.exp(delta_1[1][0]) + math.exp(delta_1[2][0]) + math.exp(delta_1[3][0]) + math.exp(0))\n",
        "s_3 = math.exp(delta_1[2][0])/(math.exp(delta_ss) + math.exp(delta_1[0][0]) + math.exp(delta_1[1][0]) + math.exp(delta_1[2][0]) + math.exp(delta_1[3][0]) + math.exp(0))\n",
        "s_4 = math.exp(delta_1[3][0])/(math.exp(delta_ss) + math.exp(delta_1[0][0]) + math.exp(delta_1[1][0]) + math.exp(delta_1[2][0]) + math.exp(delta_1[3][0]) + math.exp(0))\n",
        "share1 = [s_ss, s_1, s_2, s_3, s_4, s_out]\n",
        "share1"
      ],
      "metadata": {
        "id": "l_CwSwEzbltd",
        "colab": {
          "base_uri": "https://localhost:8080/"
        },
        "outputId": "5f463351-ab9e-4214-f1e3-5d2ab9d31cc4"
      },
      "execution_count": 31,
      "outputs": [
        {
          "output_type": "execute_result",
          "data": {
            "text/plain": [
              "[0.07898086388903966,\n",
              " 0.4324096662385957,\n",
              " 0.21895462756208028,\n",
              " 0.03568497776820293,\n",
              " 0.15064185628471471,\n",
              " 0.08332800825736683]"
            ]
          },
          "metadata": {},
          "execution_count": 31
        }
      ]
    },
    {
      "cell_type": "markdown",
      "source": [
        "The share of the new product will be equal to 0.079, but at the same time, other products with satellite services in market 1 have a much larger share, so a new product should not enter this market with these parameters."
      ],
      "metadata": {
        "id": "RKh20A2vKWon"
      }
    },
    {
      "cell_type": "markdown",
      "source": [
        "**3.3 Nested Logit**"
      ],
      "metadata": {
        "id": "d24uo6g6i7-A"
      }
    },
    {
      "cell_type": "markdown",
      "source": [
        "a. For the nested logit, we have a new parameter to estimate ($\\lambda$ or $\\rho$) and thus need one more instrument. A popular choice for this instrument is the number of goods in a good’s nest. Explain why we cannot use this instrument in this case."
      ],
      "metadata": {
        "id": "JBjqN234jCOz"
      }
    },
    {
      "cell_type": "markdown",
      "source": [
        "In this case, the number of goods inside each nest is 2. It can be mentioned the quantity of satellite and wired goods is equal. This means there is always the same amount of observations in one nest."
      ],
      "metadata": {
        "id": "hxn3pMOEVy2z"
      }
    },
    {
      "cell_type": "markdown",
      "source": [
        "b.\n",
        " Instead we will take the quality of the other good in the same nest as our instrument. Construct this instrument and name it *'demand_instruments1'*. \n",
        " \n",
        " & \n",
        " \n",
        " c.  Estimate the nested logit model. What does your estimate of $\\rho (\\lambda)$ says about the correlation of individual shocks among same-nest goods? Does there exist a strong nesting-by-type-of-service structure in our data?"
      ],
      "metadata": {
        "id": "tP7Tw4PmjO-E"
      }
    },
    {
      "cell_type": "code",
      "source": [
        "def solve_nl(data):\n",
        "  #nesting_ids is the identity of nest\n",
        "    groups = data.groupby(['market_ids', 'nesting_ids'])\n",
        "    #creating a new instrument: quality of the other good in the same nest\n",
        "    data['demand_instruments1'] = groups['quality'].transform(lambda x: x.sum() - x)\n",
        "    nl_formulation = pyblp.Formulation('0 + quality + satellite + wired + prices')\n",
        "    problem = pyblp.Problem(nl_formulation, data)\n",
        "\n",
        "    return problem.solve(rho=0.7)"
      ],
      "metadata": {
        "id": "sgcD7T-zpBQP"
      },
      "execution_count": 47,
      "outputs": []
    },
    {
      "cell_type": "code",
      "source": [
        "data_nest = data.copy()\n",
        "data_nest['nesting_ids'] = data_nest['satellite']\n",
        "nl_results = solve_nl(data_nest)\n",
        "nl_results"
      ],
      "metadata": {
        "colab": {
          "base_uri": "https://localhost:8080/"
        },
        "id": "mmDvhRYhZPdV",
        "outputId": "36013dba-794f-44eb-9b71-252b07a90fb9"
      },
      "execution_count": 48,
      "outputs": [
        {
          "output_type": "execute_result",
          "data": {
            "text/plain": [
              "Problem Results Summary:\n",
              "======================================================================================\n",
              "GMM   Objective    Projected    Reduced   Clipped  Weighting Matrix  Covariance Matrix\n",
              "Step    Value    Gradient Norm  Hessian   Shares   Condition Number  Condition Number \n",
              "----  ---------  -------------  --------  -------  ----------------  -----------------\n",
              " 2    +1.1E-24     +4.4E-11     +5.6E+02     0         +3.9E+01          +3.1E+03     \n",
              "======================================================================================\n",
              "\n",
              "Cumulative Statistics:\n",
              "=================================================\n",
              "Computation  Optimizer  Optimization   Objective \n",
              "   Time      Converged   Iterations   Evaluations\n",
              "-----------  ---------  ------------  -----------\n",
              " 00:00:21       Yes          2             6     \n",
              "=================================================\n",
              "\n",
              "Rho Estimates (Robust SEs in Parentheses):\n",
              "==========\n",
              "All Groups\n",
              "----------\n",
              " +8.8E-02 \n",
              "(+6.0E-02)\n",
              "==========\n",
              "\n",
              "Beta Estimates (Robust SEs in Parentheses):\n",
              "==============================================\n",
              " quality    satellite     wired       prices  \n",
              "----------  ----------  ----------  ----------\n",
              " +9.0E-01    +3.9E+00    +2.9E+00    -1.9E+00 \n",
              "(+3.7E-02)  (+1.9E-01)  (+1.7E-01)  (+8.8E-02)\n",
              "=============================================="
            ]
          },
          "metadata": {},
          "execution_count": 48
        }
      ]
    },
    {
      "cell_type": "markdown",
      "source": [
        "$\\hat{\\rho} = 0.088$\n",
        "\n",
        " Within the sets the correlation coefficient for the $\\varepsilon_{ij}$ is approximately 0.088 (very weak, close to zero), therefore, this model is close to plain logit model. Due to the weak correlation in our data, there is no strong nesting-by-type-of-service structure.\n",
        "\n",
        "$\\lambda$ measures independence of individual shocks across goods inside nests and in this case is in the interval between 0 and 1 so the following conclusion can be made: the structure of nests is not so bad. Furthermore, the value of $\\lambda$ shows that individual taste shocks have not significant correlation across goods in nests."
      ],
      "metadata": {
        "id": "m3d6YNytnFCC"
      }
    },
    {
      "cell_type": "markdown",
      "source": [
        "d.\n",
        " Compute the matrix of elasticities for market 1. Report a numerical value of the elasticity of the share of good 2 with respect to price of good 4 in market 1 and compare it with what you found in the plain logit case. Comment."
      ],
      "metadata": {
        "id": "RiPcSvCvjdkU"
      }
    },
    {
      "cell_type": "code",
      "source": [
        "elasticities_nl = nl_results.compute_elasticities()\n",
        "plt.colorbar(plt.matshow(elasticities_nl[indicator]))"
      ],
      "metadata": {
        "colab": {
          "base_uri": "https://localhost:8080/",
          "height": 274
        },
        "id": "ZB6wKcRf0DMi",
        "outputId": "92e7b9ff-6ae4-4ada-f91a-31b70565ce7f"
      },
      "execution_count": 43,
      "outputs": [
        {
          "output_type": "execute_result",
          "data": {
            "text/plain": [
              "<matplotlib.colorbar.Colorbar at 0x7f8ad389bee0>"
            ]
          },
          "metadata": {},
          "execution_count": 43
        },
        {
          "output_type": "display_data",
          "data": {
            "text/plain": [
              "<Figure size 288x288 with 2 Axes>"
            ],
            "image/png": "[encoded data removed]"
          },
          "metadata": {
            "needs_background": "light"
          }
        }
      ]
    },
    {
      "cell_type": "code",
      "source": [
        "els_2_4_nl = elasticities_nl[1][3]\n",
        "els_2_4_nl"
      ],
      "metadata": {
        "colab": {
          "base_uri": "https://localhost:8080/"
        },
        "id": "D0aYaNef0c9F",
        "outputId": "7d98a55f-da85-4d3e-da9d-9bf4343aed66"
      },
      "execution_count": 45,
      "outputs": [
        {
          "output_type": "execute_result",
          "data": {
            "text/plain": [
              "0.43093215441208615"
            ]
          },
          "metadata": {},
          "execution_count": 45
        }
      ]
    },
    {
      "cell_type": "markdown",
      "source": [
        "In the matrix above, element $(i,j)$ is the elasticity of market share of good $i$ with respect to price of good $j$. In order to indicate the numerical value of the elasticity of the share of good 2 at the price of good 4 in market 1, we need to take the element $(2,4)$: $\\varepsilon^{p_4}_{s_2} = 0.714$\n",
        "\n",
        "If the price of good 4 increases by 1%, the market share of good 2 will increase by 0.71%.\n",
        "\n",
        "The rows of this matrix are different so there is no IIA (unlike plain logit), but at the same time, it is clear that the value of cross elasticity within one slot at the same price in the case of $(i,j) = (2,4)$ is slightly less than it turned out in the plain logit $(0.755)$."
      ],
      "metadata": {
        "id": "56G_4O3_0x1m"
      }
    },
    {
      "cell_type": "markdown",
      "source": [
        "**3.4 Mixed (Random Coefficients) Logit**"
      ],
      "metadata": {
        "id": "lucir1FMjhIR"
      }
    },
    {
      "cell_type": "markdown",
      "source": [
        "a. What is the difference between (2) and (1)?"
      ],
      "metadata": {
        "id": "hNgpiW0sjjkh"
      }
    },
    {
      "cell_type": "markdown",
      "source": [
        "The mixed logit model extends the plain logit model by allowing for correlated tastes for different product characteristics. The main difference is the presence of $(\\beta^{(2)}_{i}, \\beta^{(3)}_{i})$, which have *individual* specific subscripts $i$ (interestingly, there is no index $i$ for $\\alpha$ and $\\beta^{(1)}$)."
      ],
      "metadata": {
        "id": "AR-A31vS0L-E"
      }
    },
    {
      "cell_type": "markdown",
      "source": [
        "b. Assume that the distribution of $(\\beta_{i}^{(2)},\\beta_{i}^{(3)})$ in population is joint normal and there is no statistical dependence between $\\beta_{i}^{(2)}$ and $\\beta_{i}^{(3)}$ (knowing a consumer’s $\\beta_{i}^{(2)}$ tells us nothing about his $\\beta_{i}^{(3)}$). Describe one similarity and one difference between this mixed logit model and the nested logit model that you considered above."
      ],
      "metadata": {
        "id": "ilHkOgzWjnve"
      }
    },
    {
      "cell_type": "markdown",
      "source": [
        " similarity: the parameter on 'prices' does not depend on a specific individual, therefore there is no index $i$ for $\\alpha$;\n",
        "\n",
        " difference: the parameter on 'sattelite' and 'wired' do depend on a specific individual, therefore there is index $i$ for $\\beta_i^{(2)}$ and $\\beta_i^{(3)}$ in the mixed logit."
      ],
      "metadata": {
        "id": "TXKGC4zBCQ7z"
      }
    },
    {
      "cell_type": "markdown",
      "source": [
        "c. Argue that we need at least one more instrument compared with the case of nested logit to estimate this mixed logit model."
      ],
      "metadata": {
        "id": "E3cVysg9jq0q"
      }
    },
    {
      "cell_type": "markdown",
      "source": [
        "Since we know that our sigma matrix will be $2 \\times 2$, and diagonal (because cov($\\beta^{(2)}_{i}, \\beta^{(3)}_{i}) = 0$ ), therefore we need at least 1 (for price) + 2 (for sigma) = 3 excluded instruments, which is one more than with nested logit."
      ],
      "metadata": {
        "id": "DaMLpCDCkRAa"
      }
    },
    {
      "cell_type": "markdown",
      "source": [
        "d. Construct the following new instrument: for each good, the sum of qualities of other goods in the same market. Name it *'demand_instruments2'*. *Hint: you may do this either from scratch or by using the built-in command build_blp_instruments in pyblp. To use it properly, you’ll have to read documentation.*"
      ],
      "metadata": {
        "id": "5jkbE0aVjtl4"
      }
    },
    {
      "cell_type": "code",
      "source": [
        "data['demand_instruments1'] = data_nest['demand_instruments1']\n",
        "data['demand_instruments2'] = data.groupby(['market_ids'])['quality'].transform(lambda x: x.sum() - x)"
      ],
      "metadata": {
        "id": "kk46bloJ2a5Y"
      },
      "execution_count": 49,
      "outputs": []
    },
    {
      "cell_type": "markdown",
      "source": [
        "e. Estimate the mixed logit model. Be careful to specify the equations correctly and set the covariance of $(\\beta_{i}^{(2)},\\beta_{i}^{(3)})$ to zero right away. Use $100$ simulated consumers for each market and $10^{−6}$ convergence tolerance for your optimization algorithm. What are your estimates means and standard deviations of $(\\beta_{i}^{(2)},\\beta_{i}^{(3)})$ in the population? Which type of\n",
        "services — satellite or wired — has a higher variance of utility of a baseline quality in the population? Speculate about real-life reasons this may be so."
      ],
      "metadata": {
        "id": "CX4d85MZjwUB"
      }
    },
    {
      "cell_type": "code",
      "source": [
        "mc_integration = pyblp.Integration('monte_carlo', size = 100, specification_options={'seed': 0})\n",
        "mc_integration"
      ],
      "metadata": {
        "colab": {
          "base_uri": "https://localhost:8080/"
        },
        "id": "sNAy46EM3pd6",
        "outputId": "2e4a8838-2fb4-4f81-f3b0-94bc926ad71d"
      },
      "execution_count": 50,
      "outputs": [
        {
          "output_type": "execute_result",
          "data": {
            "text/plain": [
              "Configured to construct nodes and weights with Monte Carlo simulation with options {seed: 0}."
            ]
          },
          "metadata": {},
          "execution_count": 50
        }
      ]
    },
    {
      "cell_type": "code",
      "source": [
        "bfgs = pyblp.Optimization('bfgs', {'gtol': 1e-6})"
      ],
      "metadata": {
        "id": "gKn_k65b4ZP6"
      },
      "execution_count": 51,
      "outputs": []
    },
    {
      "cell_type": "code",
      "source": [
        "X1_formulation = pyblp.Formulation('0 + quality + satellite + wired + prices')# this is equation for delta\n",
        "X2_formulation = pyblp.Formulation('0 + satellite + wired') #this is equation for mu, in this case, X1 and X2 are the same\n",
        "product_formulations = (X1_formulation, X2_formulation)\n",
        "product_formulations"
      ],
      "metadata": {
        "id": "yLkae1BW4akI"
      },
      "execution_count": null,
      "outputs": []
    },
    {
      "cell_type": "code",
      "source": [
        "mc_problem = pyblp.Problem(product_formulations, data, integration=mc_integration)\n",
        "mc_problem"
      ],
      "metadata": {
        "colab": {
          "base_uri": "https://localhost:8080/"
        },
        "id": "7RtDPWIi4TfG",
        "outputId": "d4a948c4-9646-4de4-af03-b19dfe8bf30b"
      },
      "execution_count": 53,
      "outputs": [
        {
          "output_type": "execute_result",
          "data": {
            "text/plain": [
              "Dimensions:\n",
              "=========================================\n",
              " T     N     F     I      K1    K2    MD \n",
              "----  ----  ---  ------  ----  ----  ----\n",
              "1000  4000   4   100000   4     2     6  \n",
              "=========================================\n",
              "\n",
              "Formulations:\n",
              "==================================================================\n",
              "       Column Indices:             0          1        2      3   \n",
              "-----------------------------  ---------  ---------  -----  ------\n",
              " X1: Linear Characteristics     quality   satellite  wired  prices\n",
              "X2: Nonlinear Characteristics  satellite    wired                 \n",
              "=================================================================="
            ]
          },
          "metadata": {},
          "execution_count": 53
        }
      ]
    },
    {
      "cell_type": "code",
      "source": [
        "results1 = mc_problem.solve(sigma=np.eye(2), optimization=bfgs)\n",
        "results1"
      ],
      "metadata": {
        "id": "atuHQoqF6eh0",
        "colab": {
          "base_uri": "https://localhost:8080/"
        },
        "outputId": "ee0a355b-9697-499a-f052-5fca57f53102"
      },
      "execution_count": 54,
      "outputs": [
        {
          "output_type": "execute_result",
          "data": {
            "text/plain": [
              "Problem Results Summary:\n",
              "=======================================================================================================\n",
              "GMM   Objective  Gradient      Hessian         Hessian     Clipped  Weighting Matrix  Covariance Matrix\n",
              "Step    Value      Norm    Min Eigenvalue  Max Eigenvalue  Shares   Condition Number  Condition Number \n",
              "----  ---------  --------  --------------  --------------  -------  ----------------  -----------------\n",
              " 2    +3.5E-01   +3.2E-09     +1.1E+00        +1.4E+01        0         +1.9E+02          +2.5E+17     \n",
              "=======================================================================================================\n",
              "\n",
              "Cumulative Statistics:\n",
              "===========================================================================\n",
              "Computation  Optimizer  Optimization   Objective   Fixed Point  Contraction\n",
              "   Time      Converged   Iterations   Evaluations  Iterations   Evaluations\n",
              "-----------  ---------  ------------  -----------  -----------  -----------\n",
              " 00:04:22       Yes          14           28         170365       526904   \n",
              "===========================================================================\n",
              "\n",
              "Nonlinear Coefficient Estimates (Robust SEs in Parentheses):\n",
              "=================================\n",
              " Sigma:    satellite     wired   \n",
              "---------  ----------  ----------\n",
              "satellite   +1.3E+00             \n",
              "           (+3.8E-01)            \n",
              "                                 \n",
              "  wired     +0.0E+00    +1.3E-01 \n",
              "                       (+3.4E-02)\n",
              "=================================\n",
              "\n",
              "Beta Estimates (Robust SEs in Parentheses):\n",
              "==============================================\n",
              " quality    satellite     wired       prices  \n",
              "----------  ----------  ----------  ----------\n",
              " +1.0E+00    +4.2E+00    +3.2E+00    -2.1E+00 \n",
              "(+4.0E-02)  (+1.7E-01)  (+1.9E-01)  (+7.7E-02)\n",
              "=============================================="
            ]
          },
          "metadata": {},
          "execution_count": 54
        }
      ]
    },
    {
      "cell_type": "markdown",
      "source": [
        "Estimates means and standard deviations of $(\\beta_{i}^{(2)}, \\beta_{i}^{(3)})$  in the population:\n",
        "\n",
        "$\\overline{\\beta_{i}^{(2)}} = 4.2$\n",
        "\n",
        "$\\overline{\\beta_{i}^{(3)}} = 3.2$\n",
        "\n",
        "$\\sigma_{\\beta_{i}^{(2)}} = 1.3$\n",
        "\n",
        "$\\sigma_{\\beta_{i}^{(3)}} = 0.13$\n",
        "\n",
        "Sigma is the estimated matrix of standard deviations, not variances, but Sigma is diagonal matrix, therefore, we can evaluate this matrix to answer the question: Which type of services - satellite or wired - has a higher variance of utility of a baseline quality in the population?\n",
        "\n",
        "Satellite has a higher variance of utility of a baseline quality in the population. Perhaps this is due to the fact that satellite TV is less stable, for example, due to more frequent connection interruptions or bad weather conditions (dense overcast, snow, rain, fog)."
      ],
      "metadata": {
        "id": "20U-iBoJI_ju"
      }
    },
    {
      "cell_type": "markdown",
      "source": [
        "f. Let $WTP_i$ be an individual willingness to pay for a baseline-quality satellite product before a consumer learns $\\varepsilon_{ijt}$ and $\\xi_{it}$. Compute the average willingness-to-pay $\\overline{WTP}$ across all consumers the population."
      ],
      "metadata": {
        "id": "3mB5DnjxjzvG"
      }
    },
    {
      "cell_type": "code",
      "source": [
        "beta=results1.beta\n",
        "wtp_satellite = -beta[1]/beta[3]\n",
        "print('The average willingness-to-pay equal to', round(wtp_satellite[0], 3))"
      ],
      "metadata": {
        "colab": {
          "base_uri": "https://localhost:8080/"
        },
        "id": "0th7AShMKeh3",
        "outputId": "624bcb2f-7623-43fb-ed6a-63020addfc29"
      },
      "execution_count": 56,
      "outputs": [
        {
          "output_type": "stream",
          "name": "stdout",
          "text": [
            "The average willingness-to-pay equal to 2.013\n"
          ]
        }
      ]
    },
    {
      "cell_type": "markdown",
      "source": [
        "g. Compute some bounds $(WTP_l,WTP_h)$, $WTP_l < WTP_h$ such that 95% of the population have their $WTP_i$ within these bounds."
      ],
      "metadata": {
        "id": "4ZhqjN3Nj2Fj"
      }
    },
    {
      "cell_type": "markdown",
      "source": [
        "The bounds of the confidence interval will be $WTP_{l} = \\overline{WTP} - t_{0.05}\\cdot \\frac{s}{\\sqrt{n}}$ and $WTP_{h} = \\overline{WTP} + t_{0.05}\\cdot \\frac{s}{\\sqrt{n}}$"
      ],
      "metadata": {
        "id": "YwJecyP3aDJs"
      }
    },
    {
      "cell_type": "code",
      "source": [
        "t = 1.96\n",
        "n = 4000\n",
        "sigma = results1.sigma[0][0]\n",
        "wtp_l = wtp_satellite[0] - t*sigma/n**0.5\n",
        "wtp_h = wtp_satellite[0] + t*sigma/n**0.5\n",
        "print('The bounds (𝑊𝑇𝑃_𝑙,𝑊𝑇𝑃_ℎ) equal to (', round(wtp_l, 3), ',', round(wtp_h, 3), ')')"
      ],
      "metadata": {
        "colab": {
          "base_uri": "https://localhost:8080/"
        },
        "id": "2SFZjcuibPVj",
        "outputId": "0f32edf8-0b37-4dbf-dc72-d13f3c20d8de"
      },
      "execution_count": 57,
      "outputs": [
        {
          "output_type": "stream",
          "name": "stdout",
          "text": [
            "The bounds (𝑊𝑇𝑃_𝑙,𝑊𝑇𝑃_ℎ) equal to ( 1.973 , 2.052 )\n"
          ]
        }
      ]
    }
  ]
}